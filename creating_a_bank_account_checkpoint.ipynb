{
  "nbformat": 4,
  "nbformat_minor": 0,
  "metadata": {
    "colab": {
      "provenance": [],
      "authorship_tag": "ABX9TyPXDolS8v+HHozT0Bl6gV5H",
      "include_colab_link": true
    },
    "kernelspec": {
      "name": "python3",
      "display_name": "Python 3"
    },
    "language_info": {
      "name": "python"
    }
  },
  "cells": [
    {
      "cell_type": "markdown",
      "metadata": {
        "id": "view-in-github",
        "colab_type": "text"
      },
      "source": [
        "<a href=\"https://colab.research.google.com/github/oumaymasaddouri/API/blob/main/creating_a_bank_account_checkpoint.ipynb\" target=\"_parent\"><img src=\"https://colab.research.google.com/assets/colab-badge.svg\" alt=\"Open In Colab\"/></a>"
      ]
    },
    {
      "cell_type": "markdown",
      "source": [
        "#Objective\n",
        "**Create a class called \"Account\" that has the following attributes:**\n",
        "\n",
        "account_number (string)\n",
        "initial_balance (float)\n",
        "The class should have the following methods:\n",
        "\n",
        "deposit(amount: float) - This method should add the amount passed as an argument to the account balance.\n",
        "withdraw(amount: float) - This method should subtract the amount passed as an argument from the account balance, but only if the account balance is greater than the amount being withdrawn.\n",
        "check_balance() - This method should return the current account balance."
      ],
      "metadata": {
        "id": "gc81yIyLvuLE"
      }
    },
    {
      "cell_type": "markdown",
      "source": [
        "Concept of Encapsulation"
      ],
      "metadata": {
        "id": "4OyauSr76M9W"
      }
    },
    {
      "cell_type": "code",
      "source": [
        "class Account:\n",
        "    def __init__(self, account_number, initial_balance):\n",
        "        self.__account_number = account_number\n",
        "        self.__balance = initial_balance\n",
        "\n",
        "    def deposit(self, amount):\n",
        "        self.__balance += amount\n",
        "\n",
        "    def withdraw(self, amount):\n",
        "        if self.__balance >= amount:\n",
        "            self.__balance -= amount\n",
        "        else:\n",
        "            print(\"Withdrawal failed: insufficient funds\") #Fakher proposition\n",
        "\n",
        "    def check_balance(self):\n",
        "        return self.__balance\n",
        "\n",
        "    def get_balance(self):\n",
        "        return self.__balance\n",
        "\n",
        "    def set_balance(self, balance):\n",
        "        self.__balance = balance\n",
        "\n",
        "\n",
        "\n",
        "\n"
      ],
      "metadata": {
        "id": "MRcTn95IG_BH"
      },
      "execution_count": 2,
      "outputs": []
    },
    {
      "cell_type": "markdown",
      "source": [
        "Here, we've encapsulated the account_number and balance attributes by making them private (using double underscore __ before their names). This means that they can only be accessed from within the class itself, and not from outside. To provide access to these attributes, we've defined getter and setter methods using the naming convention 'get_attribute_name()' and 'set_attribute_name()'.\n",
        "\n",
        "By using encapsulation, we hide the implementation details of the class and expose only the necessary functionality through methods. This allows us to change the implementation of the class without affecting any code that uses it. For example, we could change the way the balance is stored (e.g., as a list of transactions instead of a single float) without affecting any code that uses the 'deposit()', 'withdraw()', and 'check_balance()' methods."
      ],
      "metadata": {
        "id": "1zUWjVhp8L2v"
      }
    },
    {
      "cell_type": "markdown",
      "source": [
        "Concept of abstraction"
      ],
      "metadata": {
        "id": "EKqtavLJ8Sva"
      }
    },
    {
      "cell_type": "code",
      "source": [
        "from abc import ABC, abstractmethod\n",
        "\n",
        "class Account(ABC):\n",
        "    def __init__(self, account_number, account_balance, account_holder):\n",
        "        self.account_number = account_number\n",
        "        self.account_balance = account_balance\n",
        "        self.account_holder = account_holder\n",
        "\n",
        "    @abstractmethod\n",
        "    def deposit(self, amount):\n",
        "        pass\n",
        "\n",
        "    @abstractmethod\n",
        "    def withdraw(self, amount):\n",
        "        pass\n",
        "\n",
        "    def check_balance(self):\n",
        "        return self.account_balance\n",
        "\n",
        "class SavingsAccount(Account):\n",
        "    def __init__(self, account_number, account_balance, account_holder):\n",
        "        super().__init__(account_number, account_balance, account_holder)\n",
        "        self.minimum_balance = 100\n",
        "\n",
        "    def deposit(self, amount):\n",
        "        self.account_balance += amount\n",
        "\n",
        "    def withdraw(self, amount):\n",
        "        if self.account_balance >= amount and (self.account_balance - amount) >= self.minimum_balance:\n",
        "            self.account_balance -= amount\n",
        "        else:\n",
        "            print(\"Withdrawal failed: insufficient funds or minimum balance limit reached\")"
      ],
      "metadata": {
        "id": "WrB0ZuGM8Xrr"
      },
      "execution_count": 3,
      "outputs": []
    },
    {
      "cell_type": "markdown",
      "source": [
        "Here, we create an abstract 'Account' class that defines the basic structure for any type of account. We define two abstract methods 'deposit()' and 'withdraw()' which are implemented in the subclasses. We also define a 'check_balance()' method which is common to all types of accounts and doesn't need to be overridden.\n",
        "\n",
        "We then create a subclass 'SavingsAccount' which inherits from the Account class. The 'SavingsAccount' class implements the 'deposit()' and 'withdraw()' methods as required for a savings account. It also defines a 'minimum_balance' attribute to specify the minimum balance required to maintain the account.\n",
        "\n",
        "By using abstraction, we separate the common functionality of all accounts into the 'Account' class, and implement the specific functionality for each type of account in its own subclass. This makes the code more modular and easier to maintain, as any changes to the common functionality will only need to be made once in the 'Account' class, and not in each subclass separately."
      ],
      "metadata": {
        "id": "_qrwtwLY9QPh"
      }
    },
    {
      "cell_type": "markdown",
      "source": [
        "Concept of inheritence"
      ],
      "metadata": {
        "id": "VHpKhkay9VFE"
      }
    },
    {
      "cell_type": "code",
      "source": [
        "class Account:\n",
        "    def __init__(self, account_number, initial_balance):\n",
        "        self.account_number = account_number\n",
        "        self.balance = initial_balance\n",
        "\n",
        "    def deposit(self, amount):\n",
        "        self.balance += amount\n",
        "\n",
        "    def withdraw(self, amount):\n",
        "        if self.balance >= amount:\n",
        "            self.balance -= amount\n",
        "        else:\n",
        "            print(\"Withdrawal failed: insufficient funds\")\n",
        "\n",
        "    def check_balance(self):\n",
        "        return self.balance\n",
        "\n",
        "class SavingsAccount(Account):\n",
        "    def __init__(self, account_number, initial_balance):\n",
        "        super().__init__(account_number, initial_balance)\n",
        "        self.interest_rate = 0.02\n",
        "\n",
        "    def add_interest(self):\n",
        "        interest = self.balance * self.interest_rate\n",
        "        self.deposit(interest)"
      ],
      "metadata": {
        "id": "56OKBHWu9ZgP"
      },
      "execution_count": 4,
      "outputs": []
    },
    {
      "cell_type": "markdown",
      "source": [
        "Here, we've created a new class called 'SavingsAccount' that inherits from the 'Account' class. This means that the 'SavingsAccount' class has all the attributes and methods of the 'Account' class, plus any additional attributes and methods we define.\n",
        "\n",
        "In this example, we've added a new attribute called 'interest_rate', which represents the interest rate for the savings account. We've also added a new method called 'add_interest()', which calculates the interest earned based on the balance and the interest rate, and then adds it to the account using the 'deposit()' method.\n",
        "\n",
        "By using inheritance, we can reuse the code from the 'Account' class in the 'SavingsAccount' class and add new functionality specific to savings accounts. This helps us to avoid duplicating code and makes it easier to manage our codebase."
      ],
      "metadata": {
        "id": "aVUEELfs9hH2"
      }
    },
    {
      "cell_type": "markdown",
      "source": [
        "Concept of polymorphism"
      ],
      "metadata": {
        "id": "z0IakFnU9o4S"
      }
    },
    {
      "cell_type": "code",
      "source": [
        "class Account:\n",
        "    def __init__(self, account_number, initial_balance):\n",
        "        self.account_number = account_number\n",
        "        self.balance = initial_balance\n",
        "\n",
        "    def deposit(self, amount):\n",
        "        self.balance += amount\n",
        "\n",
        "    def withdraw(self, amount):\n",
        "        if self.balance >= amount:\n",
        "            self.balance -= amount\n",
        "        else:\n",
        "            print(\"Withdrawal failed: insufficient funds\")\n",
        "\n",
        "    def check_balance(self):\n",
        "        return self.balance\n",
        "\n",
        "class CheckingAccount(Account):\n",
        "    def __init__(self, account_number, initial_balance, overdraft_limit=100):\n",
        "        super().__init__(account_number, initial_balance)\n",
        "        self.overdraft_limit = overdraft_limit\n",
        "\n",
        "    def withdraw(self, amount):\n",
        "        if self.balance + self.overdraft_limit >= amount:\n",
        "            self.balance -= amount\n",
        "        else:\n",
        "            print(\"Withdrawal failed: insufficient funds\")\n",
        "\n",
        "class SavingsAccount(Account):\n",
        "    def __init__(self, account_number, initial_balance):\n",
        "        super().__init__(account_number, initial_balance)\n",
        "        self.interest_rate = 0.02\n",
        "\n",
        "    def add_interest(self):\n",
        "        interest = self.balance * self.interest_rate\n",
        "        self.deposit(interest)"
      ],
      "metadata": {
        "id": "r-Z-t9IV9vs-"
      },
      "execution_count": 5,
      "outputs": []
    },
    {
      "cell_type": "markdown",
      "source": [
        "Here, we've defined two subclasses of the 'Account' class: 'CheckingAccount' and SavingsAccount. The 'CheckingAccount' class overrides the 'withdraw()' method from the 'Account' class to allow for overdrafts up to a specified limit. The SavingsAccount class adds a new method called 'add_interest()' to calculate and add interest to the account.\n",
        "\n",
        "Because both subclasses inherit from the 'Account' class, they can be treated as instances of 'Account'. This allows us to use polymorphism to write code that works with both 'CheckingAccount' and 'SavingsAccount' objects."
      ],
      "metadata": {
        "id": "Xfp3zeDTHAIf"
      }
    },
    {
      "cell_type": "markdown",
      "source": [
        "**Conclusion**\n",
        "\n",
        "The objective of trying the same class for different OOP concepts is to demonstrate the power and flexibility of object-oriented programming. By using the same class and modifying it to demonstrate different OOP concepts, we can see how the same code can be written in different ways to achieve different goals.\n",
        "\n",
        "This allows us to better understand the strengths and weaknesses of each concept, as well as how they can be combined to create more complex programs. It also helps to reinforce the key principles of OOP, such as encapsulation, inheritance, polymorphism, and abstraction, by providing practical examples of how they can be implemented in code.\n",
        "\n",
        "Overall, experimenting with different OOP concepts using the same class helps to deepen our understanding of object-oriented programming and provides a valuable learning experience for developers of all levels."
      ],
      "metadata": {
        "id": "HJQ-Kf10HFZu"
      }
    }
  ]
}